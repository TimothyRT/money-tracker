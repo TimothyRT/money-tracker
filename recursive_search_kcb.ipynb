{
 "cells": [
  {
   "cell_type": "markdown",
   "metadata": {},
   "source": [
    "https://stackoverflow.com/questions/18394147/how-to-do-a-recursive-sub-folder-search-and-return-files-in-a-list"
   ]
  },
  {
   "cell_type": "code",
   "execution_count": 7,
   "metadata": {},
   "outputs": [],
   "source": [
    "from pathlib import Path"
   ]
  },
  {
   "cell_type": "markdown",
   "metadata": {},
   "source": [
    "# Sandbox"
   ]
  },
  {
   "cell_type": "code",
   "execution_count": 8,
   "metadata": {},
   "outputs": [],
   "source": [
    "STRING = r\"checkAuth\""
   ]
  },
  {
   "cell_type": "markdown",
   "metadata": {},
   "source": [
    "## PDF\n",
    "\n",
    "https://stackoverflow.com/a/69947714/22699824"
   ]
  },
  {
   "cell_type": "code",
   "execution_count": 9,
   "metadata": {},
   "outputs": [],
   "source": [
    "import fitz  # https://github.com/PaddlePaddle/PaddleOCR/issues/10669#issuecomment-1682595014\n",
    "import re"
   ]
  },
  {
   "cell_type": "code",
   "execution_count": 10,
   "metadata": {},
   "outputs": [],
   "source": [
    "import codecs"
   ]
  },
  {
   "cell_type": "code",
   "execution_count": 11,
   "metadata": {},
   "outputs": [
    {
     "name": "stdout",
     "output_type": "stream",
     "text": [
      "= STRING: checkAuth =\n"
     ]
    }
   ],
   "source": [
    "print(f\"= STRING: {STRING} =\")\n",
    "result_pdf = list(Path(\".\").rglob(\"*.[pP][dD][fF]\"))\n",
    "\n",
    "for pdf in result_pdf:\n",
    "    filename = pdf\n",
    "    print(f\"== {filename} ==\")\n",
    "\n",
    "    # load document\n",
    "    doc = fitz.open(filename)\n",
    "\n",
    "    # get text, search for string and print count on page.\n",
    "    for page in doc:\n",
    "        text = ''\n",
    "        text += page.get_text()\n",
    "        count = len(re.findall(STRING, text))\n",
    "        if count > 0:\n",
    "            print(f'Count on p{page.number +1}: {count}')"
   ]
  },
  {
   "cell_type": "markdown",
   "metadata": {},
   "source": [
    "## IPYNB"
   ]
  },
  {
   "cell_type": "code",
   "execution_count": 12,
   "metadata": {},
   "outputs": [
    {
     "name": "stdout",
     "output_type": "stream",
     "text": [
      "= STRING: checkAuth =\n",
      "== frontend\\dist\\assets\\index-BmrNVp-n.js ==\n",
      "== frontend\\src\\stores\\auth.js ==\n",
      "== frontend\\src\\stores\\initAuth.js ==\n",
      "== frontend\\src\\utils\\initAuth.js ==\n"
     ]
    }
   ],
   "source": [
    "print(f\"= STRING: {STRING} =\")\n",
    "file_exts = (\"*.py\", \"*.js\", \"*.vue\", \"*.html\")\n",
    "result_ipynb = []\n",
    "for _ in file_exts:\n",
    "    result_ipynb += list(Path(\".\").rglob(_))\n",
    "\n",
    "for ipynb in result_ipynb:\n",
    "    with codecs.open(ipynb, 'r', encoding='utf-8', errors='ignore') as file:\n",
    "        s = file.read()\n",
    "        if (s.find(STRING) > -1):\n",
    "            print(f\"== {ipynb} ==\")"
   ]
  }
 ],
 "metadata": {
  "kernelspec": {
   "display_name": "Python 3",
   "language": "python",
   "name": "python3"
  },
  "language_info": {
   "codemirror_mode": {
    "name": "ipython",
    "version": 3
   },
   "file_extension": ".py",
   "mimetype": "text/x-python",
   "name": "python",
   "nbconvert_exporter": "python",
   "pygments_lexer": "ipython3",
   "version": "3.11.4"
  }
 },
 "nbformat": 4,
 "nbformat_minor": 2
}
